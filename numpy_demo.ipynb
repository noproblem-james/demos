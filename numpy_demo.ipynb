{
 "cells": [
  {
   "cell_type": "code",
   "execution_count": 1,
   "metadata": {
    "collapsed": false
   },
   "outputs": [],
   "source": [
    "import numpy as np"
   ]
  },
  {
   "cell_type": "code",
   "execution_count": 2,
   "metadata": {
    "collapsed": false
   },
   "outputs": [],
   "source": [
    "def ln_break():\n",
    "    print \"\\n\", \"*\" * 10, \"\\n\""
   ]
  },
  {
   "cell_type": "markdown",
   "metadata": {},
   "source": [
    "## Shaping, Reshaping, and Combining Arrays"
   ]
  },
  {
   "cell_type": "code",
   "execution_count": 13,
   "metadata": {
    "collapsed": false
   },
   "outputs": [
    {
     "name": "stdout",
     "output_type": "stream",
     "text": [
      "[[ 0  1  2  3  4]\n",
      " [ 5  6  7  8  9]\n",
      " [10 11 12 13 14]]\n"
     ]
    }
   ],
   "source": [
    "arr1 = np.arange(0,15).reshape(3,5)\n",
    "print arr1"
   ]
  },
  {
   "cell_type": "code",
   "execution_count": 14,
   "metadata": {
    "collapsed": false
   },
   "outputs": [
    {
     "name": "stdout",
     "output_type": "stream",
     "text": [
      "[[ 0  1 -2  3  4]\n",
      " [ 5  6  7  8  9]\n",
      " [10 11 12 13 14]]\n"
     ]
    }
   ],
   "source": [
    "arr1[0][2] = -2\n",
    "print arr1"
   ]
  },
  {
   "cell_type": "code",
   "execution_count": 15,
   "metadata": {
    "collapsed": false
   },
   "outputs": [
    {
     "name": "stdout",
     "output_type": "stream",
     "text": [
      "[[ 0  1 -2  3]\n",
      " [ 5  6  7  8]\n",
      " [10 11 12 13]]\n",
      "\n",
      "********** \n",
      "\n",
      "[ 4  9 14]\n"
     ]
    }
   ],
   "source": [
    "arr1, arr2 = arr1[:,:-1], arr1[:,-1] #functionally equivalent to .pop() with lists or DataFrames\n",
    "print arr1\n",
    "ln_break()\n",
    "print arr2"
   ]
  },
  {
   "cell_type": "code",
   "execution_count": 16,
   "metadata": {
    "collapsed": false
   },
   "outputs": [
    {
     "name": "stdout",
     "output_type": "stream",
     "text": [
      "(3, 4)\n",
      "(3,)\n"
     ]
    }
   ],
   "source": [
    "#np.concatenate((arr1,arr2), axis=1) #throws error because arr2 is 1-D array\n",
    "print arr1.shape\n",
    "ln_break\n",
    "print arr2.shape"
   ]
  },
  {
   "cell_type": "code",
   "execution_count": 17,
   "metadata": {
    "collapsed": false
   },
   "outputs": [
    {
     "data": {
      "text/plain": [
       "array([[ 0,  1, -2,  3,  4],\n",
       "       [ 5,  6,  7,  8,  9],\n",
       "       [10, 11, 12, 13, 14]])"
      ]
     },
     "execution_count": 17,
     "metadata": {},
     "output_type": "execute_result"
    }
   ],
   "source": [
    "np.concatenate((arr1, arr2[:, np.newaxis]), axis=1) #add an axis"
   ]
  },
  {
   "cell_type": "code",
   "execution_count": 18,
   "metadata": {
    "collapsed": false
   },
   "outputs": [
    {
     "name": "stdout",
     "output_type": "stream",
     "text": [
      "<type 'NoneType'>\n"
     ]
    }
   ],
   "source": [
    "print type(np.newaxis)  #the newaxis is a Nonetype"
   ]
  },
  {
   "cell_type": "code",
   "execution_count": 19,
   "metadata": {
    "collapsed": false
   },
   "outputs": [
    {
     "data": {
      "text/plain": [
       "array([[ 0,  1, -2,  3,  4],\n",
       "       [ 5,  6,  7,  8,  9],\n",
       "       [10, 11, 12, 13, 14]])"
      ]
     },
     "execution_count": 19,
     "metadata": {},
     "output_type": "execute_result"
    }
   ],
   "source": [
    "np.hstack((arr1, arr2.reshape(len(arr2), 1))) #another way"
   ]
  },
  {
   "cell_type": "code",
   "execution_count": 20,
   "metadata": {
    "collapsed": false
   },
   "outputs": [
    {
     "data": {
      "text/plain": [
       "array([[ 0,  1, -2,  3,  4],\n",
       "       [ 5,  6,  7,  8,  9],\n",
       "       [10, 11, 12, 13, 14]])"
      ]
     },
     "execution_count": 20,
     "metadata": {},
     "output_type": "execute_result"
    }
   ],
   "source": [
    "arr1 = np.concatenate((arr1, arr2[:, np.newaxis]), axis=1) #let's go ahead and recreate\n",
    "arr1"
   ]
  },
  {
   "cell_type": "code",
   "execution_count": 21,
   "metadata": {
    "collapsed": false
   },
   "outputs": [
    {
     "name": "stdout",
     "output_type": "stream",
     "text": [
      "[ 15.    16.25  17.5   18.75  20.  ]\n"
     ]
    }
   ],
   "source": [
    "arr3 = np.linspace(15,20,5) #gives us five floating point numbers evenly spaced between start and stop (inclusive!)\n",
    "print arr3"
   ]
  },
  {
   "cell_type": "code",
   "execution_count": 22,
   "metadata": {
    "collapsed": false
   },
   "outputs": [
    {
     "name": "stdout",
     "output_type": "stream",
     "text": [
      "float64\n",
      "\n",
      "********** \n",
      "\n",
      "[15 16 17 18 20]\n",
      "\n",
      "********** \n",
      "\n",
      "[ 15.    16.25  17.5   18.75  20.  ]\n"
     ]
    },
    {
     "data": {
      "text/plain": [
       "array([15, 16, 17, 18, 19])"
      ]
     },
     "execution_count": 22,
     "metadata": {},
     "output_type": "execute_result"
    }
   ],
   "source": [
    "print arr3.dtype #yup, definitely floats\n",
    "ln_break()\n",
    "print arr3.astype(int) #casting array as integers (always rounds down)\n",
    "ln_break()\n",
    "print arr3 #but, oh wait, jk! That didn't work, just created a copy.\n",
    "arr3 = arr3.astype(int)\n",
    "arr3[4] = 19\n",
    "arr3"
   ]
  },
  {
   "cell_type": "code",
   "execution_count": 23,
   "metadata": {
    "collapsed": false
   },
   "outputs": [
    {
     "name": "stdout",
     "output_type": "stream",
     "text": [
      "(5,)\n",
      "5\n",
      "[15 16 17 18 19]\n",
      "\n",
      "********** \n",
      "\n",
      "[[15]\n",
      " [16]\n",
      " [17]\n",
      " [18]\n",
      " [19]]\n",
      "(5,)\n"
     ]
    }
   ],
   "source": [
    "print arr3.shape #still only 1-D\n",
    "print arr3.size #there's also size\n",
    "print arr3\n",
    "ln_break()\n",
    "\n",
    "print arr3.reshape(arr3.shape[0], 1) #don't forget to add a dimension\n",
    "print arr3.shape  #but, oh wait, jk! that didnt work. just like astype() above, reshape() only makes a copy"
   ]
  },
  {
   "cell_type": "code",
   "execution_count": 24,
   "metadata": {
    "collapsed": false
   },
   "outputs": [
    {
     "name": "stdout",
     "output_type": "stream",
     "text": [
      "[[ 0  1 -2  3  4]\n",
      " [ 5  6  7  8  9]\n",
      " [10 11 12 13 14]]\n",
      "(3, 5)\n",
      "\n",
      "********** \n",
      "\n"
     ]
    }
   ],
   "source": [
    "print arr1\n",
    "print arr1.shape\n",
    "ln_break()\n"
   ]
  },
  {
   "cell_type": "code",
   "execution_count": 25,
   "metadata": {
    "collapsed": false
   },
   "outputs": [
    {
     "name": "stdout",
     "output_type": "stream",
     "text": [
      "[15 16 17 18 19]\n",
      "(5,)\n",
      "\n",
      "********** \n",
      "\n",
      "[15 16 17 18 19]\n",
      "[15 16 17 18 19]\n",
      "\n",
      "********** \n",
      "\n",
      "[15 16 17 18 19]\n",
      "[15 16 17 18 19]\n",
      "\n",
      "********** \n",
      "\n",
      "[15 16 17 18 19]\n",
      "[15 16 17 18 19]\n"
     ]
    }
   ],
   "source": [
    "print arr3\n",
    "print arr3.shape\n",
    "arr\n",
    "ln_break()\n",
    "\n",
    "print arr3.T #makes a copy\n",
    "print arr3\n",
    "ln_break()\n",
    "\n",
    "print arr3.transpose() #makes a copy\n",
    "print arr3\n",
    "ln_break()\n",
    "\n",
    "print np.transpose(arr3) #makes a copy\n",
    "print arr3\n"
   ]
  },
  {
   "cell_type": "code",
   "execution_count": 27,
   "metadata": {
    "collapsed": false
   },
   "outputs": [
    {
     "name": "stdout",
     "output_type": "stream",
     "text": [
      "[[ 0  1 -2  3  4]\n",
      " [ 5  6  7  8  9]\n",
      " [10 11 12 13 14]]\n",
      "(3, 5)\n",
      "\n",
      "********** \n",
      "\n",
      "[15 16 17 18 19]\n",
      "(5,)\n",
      "[15 16 17 18 19]\n"
     ]
    },
    {
     "data": {
      "text/plain": [
       "array([[ 0,  1, -2,  3,  4],\n",
       "       [ 5,  6,  7,  8,  9],\n",
       "       [10, 11, 12, 13, 14],\n",
       "       [15, 16, 17, 18, 19]])"
      ]
     },
     "execution_count": 27,
     "metadata": {},
     "output_type": "execute_result"
    }
   ],
   "source": [
    "print arr1\n",
    "print arr1.shape\n",
    "\n",
    "ln_break()\n",
    "\n",
    "print arr3\n",
    "print arr3.shape\n",
    "arr3 = arr3.T\n",
    "print arr3\n",
    "\n",
    "arr4 = np.vstack((arr1, arr3))\n",
    "arr4\n",
    "\n",
    "# np.vstack((arr1,arr3)) #throws an error. Their dimensions don't match\n",
    "\n"
   ]
  },
  {
   "cell_type": "code",
   "execution_count": 49,
   "metadata": {
    "collapsed": false
   },
   "outputs": [],
   "source": [
    "arr5 = np.random.randint(-5,5,5)"
   ]
  },
  {
   "cell_type": "code",
   "execution_count": 50,
   "metadata": {
    "collapsed": false
   },
   "outputs": [
    {
     "data": {
      "text/plain": [
       "array([ 0,  3, -3,  1, -2])"
      ]
     },
     "execution_count": 50,
     "metadata": {},
     "output_type": "execute_result"
    }
   ],
   "source": [
    "arr5"
   ]
  },
  {
   "cell_type": "code",
   "execution_count": 51,
   "metadata": {
    "collapsed": false
   },
   "outputs": [
    {
     "data": {
      "text/plain": [
       "array([False, False,  True, False,  True], dtype=bool)"
      ]
     },
     "execution_count": 51,
     "metadata": {},
     "output_type": "execute_result"
    }
   ],
   "source": [
    "arr5 < 0"
   ]
  },
  {
   "cell_type": "code",
   "execution_count": 52,
   "metadata": {
    "collapsed": false
   },
   "outputs": [
    {
     "data": {
      "text/plain": [
       "array([[-2,  4],\n",
       "       [ 7,  9],\n",
       "       [12, 14],\n",
       "       [17, 19]])"
      ]
     },
     "execution_count": 52,
     "metadata": {},
     "output_type": "execute_result"
    }
   ],
   "source": [
    "arr4[:,arr5<0]"
   ]
  },
  {
   "cell_type": "code",
   "execution_count": 53,
   "metadata": {
    "collapsed": false
   },
   "outputs": [
    {
     "data": {
      "text/plain": [
       "array([[ 0,  3, -2,  1,  3],\n",
       "       [ 5,  8,  7,  6,  8],\n",
       "       [10, 13, 12, 11, 13],\n",
       "       [15, 18, 17, 16, 18]])"
      ]
     },
     "execution_count": 53,
     "metadata": {},
     "output_type": "execute_result"
    }
   ],
   "source": [
    "arr4[:,arr5] #What is happening here? Whoa, you are actually passing it indices. Super weird."
   ]
  },
  {
   "cell_type": "code",
   "execution_count": 34,
   "metadata": {
    "collapsed": false
   },
   "outputs": [
    {
     "data": {
      "text/plain": [
       "array([[ 0,  1, -2,  3,  4],\n",
       "       [ 5,  6,  7,  8,  9],\n",
       "       [10, 11, 12, 13, 14],\n",
       "       [15, 16, 17, 18, 19]])"
      ]
     },
     "execution_count": 34,
     "metadata": {},
     "output_type": "execute_result"
    }
   ],
   "source": [
    "arr4"
   ]
  },
  {
   "cell_type": "markdown",
   "metadata": {},
   "source": [
    "## Boolean indexing"
   ]
  },
  {
   "cell_type": "markdown",
   "metadata": {},
   "source": [
    "### Logical operators"
   ]
  },
  {
   "cell_type": "code",
   "execution_count": 55,
   "metadata": {
    "collapsed": false,
    "scrolled": false
   },
   "outputs": [
    {
     "data": {
      "text/plain": [
       "array([ 3,  5,  6,  4,  8,  6,  6,  8,  6,  5,  3,  6,  6,  8,  6,  9, 10,\n",
       "        7,  6,  5,  6,  8,  7,  5,  5,  6,  6,  5,  5,  7,  6,  6,  8,  4,\n",
       "        7,  8,  6,  6,  5,  7,  9,  6,  4,  8,  9,  5,  4,  4,  6,  5,  5,\n",
       "        9,  6,  8, 10,  9,  8,  2,  3,  8,  7,  2,  4,  6,  3, 10,  8,  6,\n",
       "        4,  7,  5,  5,  6,  6,  6,  8,  6,  4,  3,  6,  7, 10,  3,  8,  4,\n",
       "        9,  3,  7,  3,  6,  3,  7,  6, 10,  6,  8,  4,  8,  9,  5])"
      ]
     },
     "execution_count": 55,
     "metadata": {},
     "output_type": "execute_result"
    }
   ],
   "source": [
    "simulations = 100\n",
    "roll_1 = np.random.randint(1,6, simulations)\n",
    "roll_2 = np.random.randint(1,6, simulations)\n",
    "combined_rolls = roll_1 + roll_2\n",
    "combined_rolls"
   ]
  },
  {
   "cell_type": "code",
   "execution_count": 56,
   "metadata": {
    "collapsed": false
   },
   "outputs": [
    {
     "data": {
      "text/plain": [
       "array([ 8,  8,  8,  9, 10,  8,  8,  8,  9,  8,  9,  9,  8, 10,  9,  8,  8,\n",
       "       10,  8,  8, 10,  8,  9, 10,  8,  8,  9])"
      ]
     },
     "execution_count": 56,
     "metadata": {},
     "output_type": "execute_result"
    }
   ],
   "source": [
    "combined_rolls[combined_rolls > 7]"
   ]
  },
  {
   "cell_type": "code",
   "execution_count": 58,
   "metadata": {
    "collapsed": false
   },
   "outputs": [
    {
     "data": {
      "text/plain": [
       "array([ 6,  4,  8,  6,  6,  8,  6,  6,  6,  8,  6, 10,  6,  6,  8,  6,  6,\n",
       "        6,  6,  8,  4,  8,  6,  6,  6,  4,  8,  4,  4,  6,  6,  8, 10,  8,\n",
       "        2,  8,  2,  4,  6, 10,  8,  6,  4,  6,  6,  6,  8,  6,  4,  6, 10,\n",
       "        8,  4,  6,  6, 10,  6,  8,  4,  8])"
      ]
     },
     "execution_count": 58,
     "metadata": {},
     "output_type": "execute_result"
    }
   ],
   "source": [
    "combined_rolls[combined_rolls % 2 == 0]"
   ]
  },
  {
   "cell_type": "code",
   "execution_count": 59,
   "metadata": {
    "collapsed": false
   },
   "outputs": [
    {
     "data": {
      "text/plain": [
       "array([ 6,  4,  8,  6,  6,  8,  6,  6,  6,  8,  6,  9, 10,  6,  6,  8,  6,\n",
       "        6,  6,  6,  8,  4,  8,  6,  6,  9,  6,  4,  8,  9,  4,  4,  6,  9,\n",
       "        6,  8, 10,  9,  8,  2,  8,  2,  4,  6, 10,  8,  6,  4,  6,  6,  6,\n",
       "        8,  6,  4,  6, 10,  8,  4,  9,  6,  6, 10,  6,  8,  4,  8,  9])"
      ]
     },
     "execution_count": 59,
     "metadata": {},
     "output_type": "execute_result"
    }
   ],
   "source": [
    "combined_rolls[(combined_rolls > 7) | (combined_rolls % 2 == 0)]"
   ]
  },
  {
   "cell_type": "code",
   "execution_count": 62,
   "metadata": {
    "collapsed": true
   },
   "outputs": [],
   "source": [
    "successes = combined_rolls[(combined_rolls > 7) | (combined_rolls % 2 == 0)]"
   ]
  },
  {
   "cell_type": "code",
   "execution_count": 63,
   "metadata": {
    "collapsed": false
   },
   "outputs": [
    {
     "data": {
      "text/plain": [
       "67"
      ]
     },
     "execution_count": 63,
     "metadata": {},
     "output_type": "execute_result"
    }
   ],
   "source": [
    "successes.size"
   ]
  },
  {
   "cell_type": "code",
   "execution_count": 60,
   "metadata": {
    "collapsed": false
   },
   "outputs": [
    {
     "data": {
      "text/plain": [
       "array([False, False, False, False,  True, False, False,  True, False,\n",
       "       False, False, False, False,  True, False,  True,  True, False,\n",
       "       False, False, False,  True, False, False, False, False, False,\n",
       "       False, False, False, False, False,  True, False, False,  True,\n",
       "       False, False, False, False,  True, False, False,  True,  True,\n",
       "       False, False, False, False, False, False,  True, False,  True,\n",
       "        True,  True,  True, False, False,  True, False, False, False,\n",
       "       False, False,  True,  True, False, False, False, False, False,\n",
       "       False, False, False,  True, False, False, False, False, False,\n",
       "        True, False,  True, False,  True, False, False, False, False,\n",
       "       False, False, False,  True, False,  True, False,  True,  True, False], dtype=bool)"
      ]
     },
     "execution_count": 60,
     "metadata": {},
     "output_type": "execute_result"
    }
   ],
   "source": [
    "combined_rolls > 7"
   ]
  },
  {
   "cell_type": "code",
   "execution_count": 61,
   "metadata": {
    "collapsed": false
   },
   "outputs": [
    {
     "data": {
      "text/plain": [
       "array([False, False,  True,  True,  True,  True,  True,  True,  True,\n",
       "       False, False,  True,  True,  True,  True, False,  True, False,\n",
       "        True, False,  True,  True, False, False, False,  True,  True,\n",
       "       False, False, False,  True,  True,  True,  True, False,  True,\n",
       "        True,  True, False, False, False,  True,  True,  True, False,\n",
       "       False,  True,  True,  True, False, False, False,  True,  True,\n",
       "        True, False,  True,  True, False,  True, False,  True,  True,\n",
       "        True, False,  True,  True,  True,  True, False, False, False,\n",
       "        True,  True,  True,  True,  True,  True, False,  True, False,\n",
       "        True, False,  True,  True, False, False, False, False,  True,\n",
       "       False, False,  True,  True,  True,  True,  True,  True, False, False], dtype=bool)"
      ]
     },
     "execution_count": 61,
     "metadata": {},
     "output_type": "execute_result"
    }
   ],
   "source": [
    "combined_rolls % 2 == 0"
   ]
  },
  {
   "cell_type": "markdown",
   "metadata": {},
   "source": [
    "## Filtering rows based on values in the rows"
   ]
  },
  {
   "cell_type": "code",
   "execution_count": 3,
   "metadata": {
    "collapsed": false
   },
   "outputs": [
    {
     "data": {
      "text/plain": [
       "'\\nINPUT: 2 DIMENSIONAL NUMPY ARRAY\\nOUTPUT: 2 DIMENSIONAL NUMPY ARRAY\\n\\nReturn a numpy array containing only the rows from arr where all the values\\nare positive.\\n\\nE.g.  [[1, -1, 2], [3, 4, 2], [-8, 4, -4]]  ->  [[3, 4, 2]]\\n'"
      ]
     },
     "execution_count": 3,
     "metadata": {},
     "output_type": "execute_result"
    }
   ],
   "source": [
    "'''\n",
    "INPUT: 2 DIMENSIONAL NUMPY ARRAY\n",
    "OUTPUT: 2 DIMENSIONAL NUMPY ARRAY\n",
    "\n",
    "Return a numpy array containing only the rows from arr where all the values\n",
    "are positive.\n",
    "\n",
    "E.g.  [[1, -1, 2], [3, 4, 2], [-8, 4, -4]]  ->  [[3, 4, 2]]\n",
    "'''"
   ]
  },
  {
   "cell_type": "code",
   "execution_count": 4,
   "metadata": {
    "collapsed": false,
    "scrolled": true
   },
   "outputs": [
    {
     "name": "stdout",
     "output_type": "stream",
     "text": [
      "example input: \n",
      "[[ 1  2  3]\n",
      " [ 4 -5 -6]\n",
      " [-7  8  9]\n",
      " [10 11 12]]\n",
      "\n",
      "********** \n",
      "\n",
      "example output: [[1, 2, 3], [10, 11, 12]]\n"
     ]
    }
   ],
   "source": [
    "arr = np.array([[1, 2, 3], [4, -5, -6], [-7, 8, 9], [10, 11, 12]])\n",
    "print \"example input: \\n{}\".format(arr)\n",
    "ln_break()\n",
    "print \"example output: [[1, 2, 3], [10, 11, 12]]\""
   ]
  },
  {
   "cell_type": "code",
   "execution_count": 5,
   "metadata": {
    "collapsed": false,
    "scrolled": true
   },
   "outputs": [
    {
     "name": "stdout",
     "output_type": "stream",
     "text": [
      "[[ 1  2  3]\n",
      " [10 11 12]]\n"
     ]
    }
   ],
   "source": [
    "print arr[np.min(arr, axis=1) > 0]  #Given solution"
   ]
  },
  {
   "cell_type": "code",
   "execution_count": 6,
   "metadata": {
    "collapsed": false
   },
   "outputs": [
    {
     "name": "stdout",
     "output_type": "stream",
     "text": [
      "[ 1  2  3  4  8  9 10 11 12]\n"
     ]
    }
   ],
   "source": [
    "print arr[arr > 0]  #flattens array..... Why??"
   ]
  },
  {
   "cell_type": "code",
   "execution_count": 7,
   "metadata": {
    "collapsed": false,
    "scrolled": true
   },
   "outputs": [
    {
     "name": "stdout",
     "output_type": "stream",
     "text": [
      "[[ True  True  True]\n",
      " [ True False False]\n",
      " [False  True  True]\n",
      " [ True  True  True]]\n"
     ]
    }
   ],
   "source": [
    "print arr>0 #2-D Booleans"
   ]
  },
  {
   "cell_type": "code",
   "execution_count": 8,
   "metadata": {
    "collapsed": false
   },
   "outputs": [
    {
     "name": "stdout",
     "output_type": "stream",
     "text": [
      "(array([0, 0, 0, 1, 2, 2, 3, 3, 3]), array([0, 1, 2, 0, 1, 2, 0, 1, 2]))\n"
     ]
    }
   ],
   "source": [
    "print np.where(arr>0) #tuple of arrays of indices where condition is True"
   ]
  },
  {
   "cell_type": "code",
   "execution_count": 9,
   "metadata": {
    "collapsed": false,
    "scrolled": true
   },
   "outputs": [
    {
     "name": "stdout",
     "output_type": "stream",
     "text": [
      "[ 1 -6 -7 10]\n",
      "\n",
      "********** \n",
      "\n",
      "[-7 -5 -6]\n"
     ]
    }
   ],
   "source": [
    "print np.min(arr, 1) #reminder of how .min() works\n",
    "ln_break()\n",
    "print np.min(arr, 0) #reminder of how .min() works"
   ]
  },
  {
   "cell_type": "code",
   "execution_count": 10,
   "metadata": {
    "collapsed": false,
    "scrolled": true
   },
   "outputs": [
    {
     "name": "stdout",
     "output_type": "stream",
     "text": [
      "False\n",
      "\n",
      "********** \n",
      "\n",
      "[ True False False  True]\n"
     ]
    }
   ],
   "source": [
    "print (arr>0).all() #gives False for entire array (bc array contains at least one instance where conditional evaluates to false)\n",
    "ln_break()\n",
    "print (arr>0).all(axis=1) #gives True or False for each row of the array"
   ]
  },
  {
   "cell_type": "code",
   "execution_count": 11,
   "metadata": {
    "collapsed": false,
    "scrolled": true
   },
   "outputs": [
    {
     "name": "stdout",
     "output_type": "stream",
     "text": [
      "[[ 1  2  3]\n",
      " [10 11 12]]\n"
     ]
    }
   ],
   "source": [
    "print arr[(arr>0).all(axis=1)] #Alternative solution!!!!"
   ]
  },
  {
   "cell_type": "code",
   "execution_count": 12,
   "metadata": {
    "collapsed": false,
    "scrolled": true
   },
   "outputs": [
    {
     "name": "stdout",
     "output_type": "stream",
     "text": [
      "[ True False False  True]\n"
     ]
    }
   ],
   "source": [
    "print np.all(arr>0, axis=1) #Can also call .all() as a function"
   ]
  },
  {
   "cell_type": "markdown",
   "metadata": {},
   "source": [
    "### argmax\n",
    "The argmax function in numpy returns the index of the maximum value in an array. This will be very useful when implementing the prediction step of Naive Bayes, since we will want to map the maximum posterior to our set of possible classes."
   ]
  },
  {
   "cell_type": "code",
   "execution_count": 3,
   "metadata": {
    "collapsed": false
   },
   "outputs": [
    {
     "data": {
      "text/plain": [
       "1"
      ]
     },
     "execution_count": 3,
     "metadata": {},
     "output_type": "execute_result"
    }
   ],
   "source": [
    "arr = np.array([0.5, 0.99, 0.09])\n",
    "np.argmax(arr)"
   ]
  },
  {
   "cell_type": "code",
   "execution_count": null,
   "metadata": {
    "collapsed": true
   },
   "outputs": [],
   "source": []
  }
 ],
 "metadata": {
  "kernelspec": {
   "display_name": "Python 2",
   "language": "python",
   "name": "python2"
  },
  "language_info": {
   "codemirror_mode": {
    "name": "ipython",
    "version": 2
   },
   "file_extension": ".py",
   "mimetype": "text/x-python",
   "name": "python",
   "nbconvert_exporter": "python",
   "pygments_lexer": "ipython2",
   "version": "2.7.13"
  }
 },
 "nbformat": 4,
 "nbformat_minor": 2
}
