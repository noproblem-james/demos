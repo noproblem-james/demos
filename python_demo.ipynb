{
 "cells": [
  {
   "cell_type": "code",
   "execution_count": 1,
   "metadata": {
    "collapsed": true
   },
   "outputs": [],
   "source": [
    "L = [[1, 2, 3], [4, 5, 6], [7, 8, 9]]"
   ]
  },
  {
   "cell_type": "code",
   "execution_count": 2,
   "metadata": {
    "collapsed": false
   },
   "outputs": [
    {
     "name": "stdout",
     "output_type": "stream",
     "text": [
      "[[2, 4, 6], [8, 10, 12], [14, 16, 18]]\n"
     ]
    }
   ],
   "source": [
    "#Double for loop. This is what it would look like the standard way:\n",
    "doubled = []\n",
    "for row in L:\n",
    "    row2 = []\n",
    "    for item in row:\n",
    "        row2.append(item * 2)\n",
    "    doubled.append(row2)\n",
    "print doubled"
   ]
  },
  {
   "cell_type": "code",
   "execution_count": 3,
   "metadata": {
    "collapsed": false
   },
   "outputs": [
    {
     "data": {
      "text/plain": [
       "[[2, 4, 6], [8, 10, 12], [14, 16, 18]]"
      ]
     },
     "execution_count": 3,
     "metadata": {},
     "output_type": "execute_result"
    }
   ],
   "source": [
    "#Double for loop using a list comprehension:\n",
    "[[item * 2 for item in row] for row in L]"
   ]
  },
  {
   "cell_type": "code",
   "execution_count": 4,
   "metadata": {
    "collapsed": false
   },
   "outputs": [
    {
     "name": "stdout",
     "output_type": "stream",
     "text": [
      "[1, 2, 3, 4, 5, 6, 7, 8, 9]\n"
     ]
    }
   ],
   "source": [
    "#Flattened 2-D list the long way:\n",
    "flattened = []\n",
    "for row in L:\n",
    "    for item in row:\n",
    "        flattened.append(item)\n",
    "print flattened\n",
    "        "
   ]
  },
  {
   "cell_type": "code",
   "execution_count": 5,
   "metadata": {
    "collapsed": false
   },
   "outputs": [
    {
     "data": {
      "text/plain": [
       "[1, 2, 3, 4, 5, 6, 7, 8, 9]"
      ]
     },
     "execution_count": 5,
     "metadata": {},
     "output_type": "execute_result"
    }
   ],
   "source": [
    "#flatten a 2-D list:\n",
    "[item for row in L for item in row]\n"
   ]
  },
  {
   "cell_type": "code",
   "execution_count": 6,
   "metadata": {
    "collapsed": false
   },
   "outputs": [
    {
     "name": "stdout",
     "output_type": "stream",
     "text": [
      "{0: 'a', 1: 'b', 2: 'c', 3: 'd', 4: 'e'}\n",
      "{0: 'a', 1: 'b', 2: 'c', 3: 'd', 4: 'e'}\n"
     ]
    }
   ],
   "source": [
    "#Creating a dict from enumerated list\n",
    "\n",
    "L = (\"a\", \"b\", \"c\", \"d\", \"e\")\n",
    "\n",
    "D = {k:v for k, v in enumerate(L)}\n",
    "\n",
    "E = dict(enumerate(L))\n",
    "\n",
    "print D\n",
    "print E\n"
   ]
  },
  {
   "cell_type": "code",
   "execution_count": 7,
   "metadata": {
    "collapsed": false
   },
   "outputs": [
    {
     "data": {
      "text/plain": [
       "[(100, 1),\n",
       " (7, 1),\n",
       " (200, 1),\n",
       " (9, 1),\n",
       " (44, 1),\n",
       " (79, 1),\n",
       " (1000, 1),\n",
       " (88, 1),\n",
       " (4, 1),\n",
       " (37, 2),\n",
       " (22, 3)]"
      ]
     },
     "execution_count": 7,
     "metadata": {},
     "output_type": "execute_result"
    }
   ],
   "source": [
    "#Creating a Counter using .get() method\n",
    "def counter(lst):\n",
    "    dict1 = {}\n",
    "    for item in lst:\n",
    "        dict1[item] = dict1.get(item, 0) + 1\n",
    "    return sorted(dict1.items(), key=lambda x: x[1])\n",
    "L1 = [100, 9, 4, 7, 22, 37, 44, 22, 79, 88, 200, 37, 22, 1000]\n",
    "counter(L1)"
   ]
  },
  {
   "cell_type": "code",
   "execution_count": 8,
   "metadata": {
    "collapsed": false
   },
   "outputs": [],
   "source": [
    "#args\n",
    "def sum(a, b): \n",
    "    return a + b "
   ]
  },
  {
   "cell_type": "code",
   "execution_count": 9,
   "metadata": {
    "collapsed": false
   },
   "outputs": [
    {
     "data": {
      "text/plain": [
       "5"
      ]
     },
     "execution_count": 9,
     "metadata": {},
     "output_type": "execute_result"
    }
   ],
   "source": [
    "values = (2, 3)\n",
    "\n",
    "#s = sum(values)    #doesn't work, only passing one arg for \"sum\" function\n",
    "s = sum(*values) #works because you are telling it to grab all elements inside values variable\n",
    "#more_values = (3, 4); s = sum(values, more_values)  #also doesn't work, only one arg\n",
    "s"
   ]
  },
  {
   "cell_type": "code",
   "execution_count": null,
   "metadata": {
    "collapsed": true
   },
   "outputs": [],
   "source": [
    "lst1 = (\"a\", \"b\", \"c\")\n",
    "lst2 = (\"d\", \"e\", \"f\")\n",
    "lst3 = (\"g\", \"h\", \"i\")"
   ]
  },
  {
   "cell_type": "code",
   "execution_count": null,
   "metadata": {
    "collapsed": false
   },
   "outputs": [],
   "source": [
    "#[x for tup in zip(lst1, lst2, lst3) for x in tup]\n",
    "lst4 = lst1 + lst2 + lst3\n",
    "print list(lst1 + lst2 + lst3)\n",
    "print lst4, type(lst4)\n",
    "#print lst5, type(lst5)"
   ]
  },
  {
   "cell_type": "code",
   "execution_count": null,
   "metadata": {
    "collapsed": true
   },
   "outputs": [],
   "source": [
    "#Reading a file as a list of formatted words\n",
    "import string\n",
    "def word_list_from_file (f):\n",
    "    return [word.lower().strip(string.punctuation)\\\n",
    "            .decode('unicode_escape').encode('ascii','ignore') \\\n",
    "            for line in f for word in line.split()]"
   ]
  },
  {
   "cell_type": "code",
   "execution_count": null,
   "metadata": {
    "collapsed": false,
    "scrolled": false
   },
   "outputs": [],
   "source": [
    "with open (\"alice.txt\") as f:\n",
    "    print word_list_from_file(f)"
   ]
  }
 ],
 "metadata": {
  "kernelspec": {
   "display_name": "Python 2",
   "language": "python",
   "name": "python2"
  },
  "language_info": {
   "codemirror_mode": {
    "name": "ipython",
    "version": 2
   },
   "file_extension": ".py",
   "mimetype": "text/x-python",
   "name": "python",
   "nbconvert_exporter": "python",
   "pygments_lexer": "ipython2",
   "version": "2.7.13"
  }
 },
 "nbformat": 4,
 "nbformat_minor": 2
}
