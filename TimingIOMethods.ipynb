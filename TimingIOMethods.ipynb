{
 "cells": [
  {
   "cell_type": "code",
   "execution_count": null,
   "metadata": {
    "collapsed": false,
    "scrolled": false
   },
   "outputs": [],
   "source": [
    "open(\"alice.txt\").read()\n"
   ]
  },
  {
   "cell_type": "code",
   "execution_count": 1,
   "metadata": {
    "collapsed": false
   },
   "outputs": [
    {
     "data": {
      "text/plain": [
       "143838"
      ]
     },
     "execution_count": 1,
     "metadata": {},
     "output_type": "execute_result"
    }
   ],
   "source": [
    "len(open(\"alice.txt\").read())"
   ]
  },
  {
   "cell_type": "code",
   "execution_count": null,
   "metadata": {
    "collapsed": false,
    "scrolled": false
   },
   "outputs": [],
   "source": [
    "open(\"example.txt\").read().decode('unicode_escape').encode('ascii','ignore')\n"
   ]
  },
  {
   "cell_type": "code",
   "execution_count": null,
   "metadata": {
    "collapsed": false
   },
   "outputs": [],
   "source": [
    "def readlines_test (f):\n",
    "    return open(f).readlines()\n",
    "    \n",
    "%timeit readlines_test('alice.txt')\n",
    "\n",
    "#readlines_test('alice.txt')\n",
    "\n",
    "\n"
   ]
  },
  {
   "cell_type": "code",
   "execution_count": null,
   "metadata": {
    "collapsed": false
   },
   "outputs": [],
   "source": [
    "def loop_test(f):\n",
    "    with open(f) as f:\n",
    "        L = [line for line in f]\n",
    "    return L\n",
    "\n",
    "%timeit loop_test('alice.txt')"
   ]
  },
  {
   "cell_type": "code",
   "execution_count": null,
   "metadata": {
    "collapsed": false
   },
   "outputs": [],
   "source": [
    "import string\n",
    "def list_test (f):\n",
    "    with open (f) as f:\n",
    "        \n",
    "#best solution\n",
    "        #return [word.lower().strip(string.punctuation) for line in f for word in line.split()]\n",
    "\n",
    "#Two methods for making lists of lists:    \n",
    "#         for line in f:\n",
    "#             word_list = map(lambda x: x.strip(string.punctuation), line.strip().lower().split())\n",
    "#             \n",
    "#             word_list = [word.strip(string.punctuation) for word in line.strip().lower().split()] \n",
    "#         return word_list\n",
    "\n",
    "#Second metod as a 2-D list:\n",
    "#         return [[word.strip(string.punctuation).lower() for word in line.strip().split()] \\\n",
    "                #for line in f]\n",
    "        \n",
    "#Making two lists\n",
    "        L = [line.strip().split() for line in f] \n",
    "        L2 = [word.strip(string.punctuation).lower() for line in L for word in line]\n",
    "        return L2\n",
    "    \n",
    "#         return [word.strip(string.punctuation).lower() for line in \\\n",
    "#                 [line.strip().split() for line in f] for word in line]\n",
    "    \n",
    "#         return [word.strip(string.punctuation).lower() for line in \\\n",
    "#                 (line.strip().split() for line in f)]\n",
    "    \n",
    "#        return [word.lower().strip(string.punctuation) for line in f for word in line.split()]"
   ]
  },
  {
   "cell_type": "code",
   "execution_count": null,
   "metadata": {
    "collapsed": false,
    "scrolled": false
   },
   "outputs": [],
   "source": [
    "list_test('alice.txt')"
   ]
  },
  {
   "cell_type": "code",
   "execution_count": null,
   "metadata": {
    "collapsed": false
   },
   "outputs": [],
   "source": [
    "import string\n",
    "def encode_test (f):\n",
    "    with open (f) as f:\n",
    "       \n"
   ]
  },
  {
   "cell_type": "code",
   "execution_count": null,
   "metadata": {
    "collapsed": false
   },
   "outputs": [],
   "source": [
    "%time list_test('alice.txt')"
   ]
  },
  {
   "cell_type": "code",
   "execution_count": null,
   "metadata": {
    "collapsed": true
   },
   "outputs": [],
   "source": []
  }
 ],
 "metadata": {
  "kernelspec": {
   "display_name": "Python 2",
   "language": "python",
   "name": "python2"
  },
  "language_info": {
   "codemirror_mode": {
    "name": "ipython",
    "version": 2
   },
   "file_extension": ".py",
   "mimetype": "text/x-python",
   "name": "python",
   "nbconvert_exporter": "python",
   "pygments_lexer": "ipython2",
   "version": "2.7.13"
  }
 },
 "nbformat": 4,
 "nbformat_minor": 2
}
